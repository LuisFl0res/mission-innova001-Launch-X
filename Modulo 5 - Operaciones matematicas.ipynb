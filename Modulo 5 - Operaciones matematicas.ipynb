{
 "cells": [
  {
   "cell_type": "markdown",
   "metadata": {},
   "source": [
    "# Modulo 5 - Operaciones matematicas\n",
    "# Notas\n",
    "\n",
    "* Las matemáticas serán parte de casi todos los proyectos que crees a lo largo de tu viaje como desarrollador. Si eres un científico de datos, es posible que estés haciendo cálculos bastante complejos. Si estás creando sitios web, es posible que estés determinando los precios o los artículos en un carrito de compras\n",
    "\n",
    "# objetivos\n",
    "* Operadores matematicos diponibles en python \n",
    "* El orden de las operaciones\n",
    "* Como convertir cadenas en numeros \n",
    "\n",
    "# Adicion (suma) \"+\"\n",
    "Usando + entre dos números los suma y proporciona el total.\n",
    "suma = [Num1 + Num2]\n",
    "print(suma)\n",
    "\n",
    "# Sustraccion (Resta) \"-\"\n",
    " El uso de - entre dos números resta los dos números y proporciona la diferencia.\n",
    " resta = [Num1 - Num2]\n",
    " print(resta)\n",
    "\n",
    "# Multiplicacion\n",
    "es el operador de multiplicación. Proporciona el producto de dos números\n",
    "\n",
    "multiplicacion = [Num1 * Num2]\n",
    "print(multiplicacion)\n",
    "\n",
    "# Division\n",
    "se utiliza / para la división. Proporciona el cociente de dos números\n",
    "\n",
    "division = [Num1 / Num2]\n",
    "print = (division)\n",
    "\n",
    "# ejemplo - conversion seg a min\n",
    "#determinamos los numeros de seg. y dividimos entre los que corresponde a cada min \n",
    "seconds = 1042\n",
    "display_minutes = 1042 // 60\n",
    "print(display_minutes)\n",
    "\n",
    "# Orden de funcionamiento (Jererarquia de Operaciones)\n",
    "Python respeta el orden de operación para las matemáticas. El orden de operación dicta que las expresiones deben evaluarse en el siguiente orden:\n",
    "\n",
    "1.- Paréntesis\n",
    "2.- Exponentes\n",
    "3.- Multiplicación y división\n",
    "4.- Suma y resta\n",
    "\n",
    "es una buena práctica usar paréntesis incluso si el orden de operación se evaluaría de la misma manera sin ellos. En las siguientes dos líneas de código,\n",
    "la segunda es más comprensible porque el paréntesis es una indicación clara de qué operación se realizará primero.\n",
    "result_1 = 1032 + 26 * 2\n",
    "result_2 = 1032 + (26 * 2)\n",
    "\n",
    "# Valores Absolutos \n",
    "Un valor absoluto en matemáticas es el número no negativo sin su signo. El uso de un valor absoluto puede ser útil en diferentes situaciones,\n",
    "incluido nuestro ejemplo de buscar determinar la distancia entre dos planetas.\n",
    "a = 39 - 16\n",
    "b = 16 - 39\n",
    "#ambos casos el resultado es 23 \n",
    "print(abs(39 - 16))\n",
    "print(abs(16 - 39))"
   ]
  },
  {
   "cell_type": "markdown",
   "metadata": {},
   "source": [
    "# Ejercicios \n",
    "* ejercicio 1"
   ]
  },
  {
   "cell_type": "code",
   "execution_count": 1,
   "metadata": {},
   "outputs": [
    {
     "name": "stdout",
     "output_type": "stream",
     "text": [
      "628949330\n",
      "390577533.93\n"
     ]
    }
   ],
   "source": [
    "#guardamos los valores\n",
    "primer_planeta=149597870\n",
    "segundo_planeta=778547200\n",
    "# diferencia\n",
    "distancia_km=segundo_planeta - primer_planeta\n",
    "print(distancia_km)\n",
    "distancia_millas=distancia_km*0.621\n",
    "print(distancia_millas)"
   ]
  },
  {
   "cell_type": "markdown",
   "metadata": {},
   "source": [
    "* ejercicio 2"
   ]
  },
  {
   "cell_type": "code",
   "execution_count": 3,
   "metadata": {},
   "outputs": [
    {
     "name": "stdout",
     "output_type": "stream",
     "text": [
      "28\n",
      "17.387999999999998\n"
     ]
    }
   ],
   "source": [
    "# entradas con teclado \n",
    "Primer_Planeta=input('Introducir la distancia del sol para el primer planeta en kilometros')\n",
    "Segundo_Planeta=input('Introducir la distancia desde el sol para el segundo planeta en kilometros')\n",
    "#guardado de variables\n",
    "Primer_Planeta=int(Primer_Planeta)\n",
    "Segundo_Planeta=int(Segundo_Planeta)\n",
    "#\n",
    "distancia_kilometros=Segundo_Planeta-Primer_Planeta\n",
    "print(distancia_kilometros)\n",
    "\n",
    "distance_millas=distancia_kilometros*0.621\n",
    "print(abs(distance_millas))"
   ]
  }
 ],
 "metadata": {
  "interpreter": {
   "hash": "d29c00a9fd76f0f4613d5e5d4233c49dbbed91e626bdc814f7ec78f97e5063b0"
  },
  "kernelspec": {
   "display_name": "Python 3.10.2 64-bit",
   "language": "python",
   "name": "python3"
  },
  "language_info": {
   "codemirror_mode": {
    "name": "ipython",
    "version": 3
   },
   "file_extension": ".py",
   "mimetype": "text/x-python",
   "name": "python",
   "nbconvert_exporter": "python",
   "pygments_lexer": "ipython3",
   "version": "3.10.2"
  },
  "orig_nbformat": 4
 },
 "nbformat": 4,
 "nbformat_minor": 2
}
