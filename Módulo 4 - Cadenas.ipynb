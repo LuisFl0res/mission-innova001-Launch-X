{
 "cells": [
  {
   "cell_type": "markdown",
   "metadata": {},
   "source": [
    "# Intro - Notas \n",
    "Las cadenas de Python son uno de los tipos principales y más comunes en el lenguaje. Interactuar con cadenas, incluido el formato y el reemplazo de texto\n",
    "\n",
    "# aprendizaje\n",
    "* Utilizar métodos de cadena especiales.\n",
    "* Utilizar variables para introducir valores en el texto.\n",
    "* Aplicar otras técnicas de formato avanzadas para cambiar la forma en que se presenta el texto.\n",
    "* Incorporacion de operaciones cuando crees un programa python\n",
    "\n",
    "# Conceptos basicos de cadenas en python\n",
    "Aunque las cadenas en Python parecen ser simples y directas, hay cierta complejidad en las reglas de cadena que es importante comprender\n",
    "\n",
    "# inmutabilidad\n",
    "las cadenas son inmutables. Es decir, no pueden cambiar. Esta propiedad del tipo de cadena puede ser sorprendente, porque Python no te da errores cuando alteras las cadenas."
   ]
  },
  {
   "cell_type": "code",
   "execution_count": 5,
   "metadata": {},
   "outputs": [
    {
     "name": "stdout",
     "output_type": "stream",
     "text": [
      "The Moon has no atmosphere.\n",
      "The Moon has no atmosphere.No sound can be heard on the Moon.\n"
     ]
    }
   ],
   "source": [
    "fact = 'The Moon has no atmosphere.'\n",
    "fact1 = fact + 'No sound can be heard on the Moon.'\n",
    "print(fact) # la variable no es modificada\n",
    "print(fact1) # para cambiar la cadena le sumamos otro fragmento de codigo y se guarda en una nueva "
   ]
  },
  {
   "cell_type": "markdown",
   "metadata": {},
   "source": [
    "# Acerca del uso de comillas \n",
    "Puedes incluir cadenas de Python entre comillas simples, dobles o triples. Aunque puedes usarlos indistintamente, es mejor usar un tipo de manera consistente dentro de un proyecto"
   ]
  },
  {
   "cell_type": "code",
   "execution_count": 9,
   "metadata": {},
   "outputs": [
    {
     "name": "stdout",
     "output_type": "stream",
     "text": [
      "The Moon has a radius of 1,080 miles\n",
      "The \"near side\" is the part of the Moon that faces the Earth\n",
      "We only see about 60% of the Moon's surface, this is known as the \"near side\".\n"
     ]
    }
   ],
   "source": [
    "moon_radius = \"The Moon has a radius of 1,080 miles\"\n",
    "moon_radius1 = 'The \"near side\" is the part of the Moon that faces the Earth' # '' se interpreta como el texto y las segundas como parte del texto, pero si se utiliza el mismo caracter para la cadena sera interpretada como el comando de cierre del la instruccion y causara problemas \n",
    "moon_radius2 = \"\"\"We only see about 60% of the Moon's surface, this is known as the \"near side\".\"\"\" # con comillas triples puede evitar los problemas con la mezcla dentro de la cadena \n",
    "\n",
    "print(moon_radius)\n",
    "print(moon_radius1)\n",
    "print(moon_radius2)"
   ]
  },
  {
   "cell_type": "markdown",
   "metadata": {},
   "source": [
    "# Texto Multilinea \n",
    "Hay algunas maneras diferentes de definir varias líneas de texto como una sola variable. Las formas más comunes son:\n",
    "\n",
    "Utiliza un carácter de nueva línea ().\\n\n",
    "Utiliza comillas triples (\"\"\")..\n",
    "Los caracteres de nueva línea separan el texto en varias líneas al imprimir la salida:"
   ]
  },
  {
   "cell_type": "code",
   "execution_count": 13,
   "metadata": {},
   "outputs": [
    {
     "name": "stdout",
     "output_type": "stream",
     "text": [
      "Facts about the Moon:\n",
      " There is no atmosphere.\n",
      " There is no sound.\n",
      "Facts about the Moon:\n",
      "...  There is no atmosphere.\n",
      "...  There is no sound.\n"
     ]
    }
   ],
   "source": [
    "multiline = \"Facts about the Moon:\\n There is no atmosphere.\\n There is no sound.\"\n",
    "#genera saltos de linea en cada lugar que se identifica el comando \\n\n",
    "print(multiline)\n",
    "\n",
    "\n",
    "multiline = \"\"\"Facts about the Moon: \n",
    "...  There is no atmosphere.\n",
    "...  There is no sound.\"\"\"\n",
    "# imprime la estructura del texto +\n",
    "print(multiline)"
   ]
  },
  {
   "cell_type": "markdown",
   "metadata": {},
   "source": [
    "# Metodos de texto \n",
    "* .title() * otorga un formato a la cadena de texto \n",
    "* .split() * el método separará la cadena en cada espacio. Esto crearía una lista de cada palabra o número que está separado por un espacio\n",
    "* .find() * busca la posicion de los catracteres dentro de la funcion find\n",
    "* .count() * devuelve el número total de apariciones de una determinada palabra en una cadena:\n",
    "* .lower() * convierte la cadena a minusculas \n",
    "* .upper() * convierte la cadena en mayusculas \n",
    "* .isdecimal() *  comprueba si hay cadenas que se parezcan a decimales \n",
    "* .isnumeric() * determian si todos los valores son numeros \"verdadero\" si no \"falso\"\n",
    "* .join() * une cadenas de texto \n",
    "\n",
    "# Formatos \n",
    "Las cadenas de Python son uno de los tipos de datos más comunes utilizados en el lenguaje\n",
    "* Uso del formateador %.\n",
    "* Uso de .format() en una cadena.\n",
    "* Usamos f-strings."
   ]
  },
  {
   "cell_type": "markdown",
   "metadata": {},
   "source": [
    "# Ejercicios \n"
   ]
  },
  {
   "cell_type": "code",
   "execution_count": 26,
   "metadata": {},
   "outputs": [
    {
     "name": "stdout",
     "output_type": "stream",
     "text": [
      "['Interesting facts about the Moon', \"The Moon is Earth's only satellite\", '\\nThere are several interesting facts about the Moon and how it affects life here on Earth', 'On average, \\nthe Moon moves 4cm away from the Earth every year', '\\nThis yearly drift is not significant enough to cause immediate effects on Earth.']\n",
      "The Moon is Earth's only satellite\n",
      "\n",
      "There are several interesting facts about the Moon and how it affects life here on Earth\n",
      "\n",
      "This yearly drift is not significant enough to cause immediate effects on Earth.\n",
      "Interesting facts about the Moon\n",
      "Interesting facts about the Moon\n",
      "The Moon is Earth's only satellite\n",
      "The Moon is Earth's only satellite\n",
      "\n",
      "There are several interesting facts about the Moon and how it affects life here on Earth\n",
      "\n",
      "There are several interesting facts about the Moon and how it affects life here on Earth\n",
      "\n",
      "This yearly drift is not significant enough to cause immediate effects on Earth.\n",
      "\n",
      "This yearly drift is not significant enough to cause immediate effects on Earth.\n"
     ]
    }
   ],
   "source": [
    "# Ejercicio 1 - Transformacion de cadenas \n",
    "\n",
    "text = \"\"\"Interesting facts about the Moon. The Moon is Earth's only satellite. \n",
    "There are several interesting facts about the Moon and how it affects life here on Earth. On average, \n",
    "the Moon moves 4cm away from the Earth every year. \n",
    "This yearly drift is not significant enough to cause immediate effects on Earth.\"\"\" #texto con el que se trabaja\n",
    "\n",
    "texto_en_partes = text.split('. ') # separa la cadena de texto en cada espacio definido \n",
    "print(texto_en_partes) #imprime la cadena separada por el comando .split\n",
    "\n",
    "\n",
    "pistas = [\"average\", \"temperature\", \"distance\"] #define los caracteres que se buscaran \n",
    "\n",
    "for oracion in texto_en_partes: # entre cada separacion de los segmentos creados en la variable texto separada previamente por el comando .split\n",
    "    for pistas in pistas: #comparando cada palabra dentro del rando de pistas \n",
    "        if pistas in oracion: # si, cada posicion en la variable pistas compara dentro de oraciones considerando la posicion como si la variable fuera rango tras la separacion \n",
    "            print(oracion) # imprime la oracion si la condicion if se cumple\n",
    "            break # finaliza los for y regresa a ejecutar el codigo a nivel 0 \n",
    "\n",
    "for oracion in texto_en_partes:\n",
    "    for pistas in pistas:\n",
    "        if pistas in oracion:\n",
    "            print(oracion.replace(' C', 'Celsius')) #por cada C, remplazara por la cadena Celsius\n",
    "            print(oracion) # imprime la oracion si la condicion if se cumple\n",
    "            break  # finaliza los for y regresa a ejecutar el codigo a nivel 0 "
   ]
  },
  {
   "cell_type": "code",
   "execution_count": 27,
   "metadata": {},
   "outputs": [
    {
     "name": "stdout",
     "output_type": "stream",
     "text": [
      "hey\n",
      "5\n",
      "d\n"
     ]
    }
   ],
   "source": [
    "# en este caso realiza el proceso que se utiliza en el ejercicio \n",
    "collection = ['hey', 5, 'd'] # a una variable define el rango \n",
    "for x in collection: #por cada posicion siendo 'hey' la 0 de una en una hasta pasar por todo el rango \n",
    "    print(x) #en este caso como no hay if que limite las impresiones solo imprime cada posicion de la cadena "
   ]
  },
  {
   "cell_type": "code",
   "execution_count": 47,
   "metadata": {},
   "outputs": [
    {
     "name": "stdout",
     "output_type": "stream",
     "text": [
      "  {{'-'*80}} \n",
      "Nombre del planeta: {planeta} \n",
      "Gravedad en {nombre}: {gravedad * 1000} m/s2 \n",
      "\n",
      "\n",
      "Datos de Gravedad sobre: Ganimedes\n",
      "-----------------------------------------------------------------------\n",
      "Nombre del planeta: Marte\n",
      "Gravedad en Ganimedes: 0.00143 m/s2\n",
      "\n"
     ]
    }
   ],
   "source": [
    "# ejercicio 2 - Formateo de cadenas \n",
    "nombre = \"Moon\" #dato nombre \n",
    "gravity = 0.00162 # valor numericop de la gravedad\n",
    "planet = \"Earth\" # nombre dek planeta \n",
    "\n",
    "title = \"datos de gravedad registrados {nombre}\" # da formato de titulo a la variable nombre\n",
    "\n",
    "hechos = \"\"\"  {{'-'*80}} \n",
    "Nombre del planeta: {planeta} \n",
    "Gravedad en {nombre}: {gravedad * 1000} m/s2 \n",
    "\"\"\"\n",
    "# formato de la plantilla y el como se va imprimir definido por las  \"\"\"\n",
    "template = \"\"\"{title}\n",
    "{hechos}\n",
    "\"\"\"\n",
    "# impresion de variables titulo seguido de los datos guardados en la plantilla\n",
    "# cambiamos los datos de muestra\n",
    "planeta = \"Marte\" # texto de la variable planeta\n",
    "gravedad = 0.00143 # dato numero de la variable gravedad\n",
    "nombre = \"Ganimedes\" #dato del astronauta \n",
    "print (hechos) #imprime la plantilla\n",
    "#formato de la plantilla\n",
    "new_template = \"\"\"\n",
    "Datos de Gravedad sobre: {nombre}\n",
    "-----------------------------------------------------------------------\n",
    "Nombre del planeta: {planeta}\n",
    "Gravedad en {nombre}: {gravedad} m/s2\n",
    "\"\"\"\n",
    "print(new_template.format(nombre=nombre, planeta=planeta, gravedad=gravedad)) #imprime la plantilla y determina los valores correspondientes a cada campo\n",
    "# Pista: print(nueva_plantilla.format(variables))"
   ]
  }
 ],
 "metadata": {
  "interpreter": {
   "hash": "d29c00a9fd76f0f4613d5e5d4233c49dbbed91e626bdc814f7ec78f97e5063b0"
  },
  "kernelspec": {
   "display_name": "Python 3.10.2 64-bit",
   "language": "python",
   "name": "python3"
  },
  "language_info": {
   "codemirror_mode": {
    "name": "ipython",
    "version": 3
   },
   "file_extension": ".py",
   "mimetype": "text/x-python",
   "name": "python",
   "nbconvert_exporter": "python",
   "pygments_lexer": "ipython3",
   "version": "3.10.2"
  },
  "orig_nbformat": 4
 },
 "nbformat": 4,
 "nbformat_minor": 2
}
