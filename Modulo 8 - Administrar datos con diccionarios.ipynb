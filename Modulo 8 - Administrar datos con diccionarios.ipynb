{
 "cells": [
  {
   "cell_type": "code",
   "execution_count": null,
   "metadata": {},
   "outputs": [],
   "source": [
    "# Modulo 8 - Administrar datos con diccionarios \n",
    "\n",
    "# intro \n",
    "Con frecuencia tendrás que trabajar con datos más complejos que cadenas y valores booleanos\n",
    "\n",
    "# objetivos \n",
    "Usar una estructura de diccionario dentro de la aplicación para almacenar datos en un formato que facilite la búsqueda de valores.\n",
    "* Identificar cuándo se debe usar un diccionario.\n",
    "* Crear y modificar datos dentro de un diccionario.\n",
    "* Trabajar con métodos de diccionario para acceder a los datos del diccionario.\n",
    "\n",
    "# variables \n",
    "Las variables de Python pueden almacenar varios tipos de datos\n",
    " *  ejemplo \n",
    " # 1\n",
    " name = 'Earth'\n",
    " moons = 1 \n",
    " # 2\n",
    " earth_name = 'Earth'\n",
    " earth_moons = 1\n",
    " # 3\n",
    " jupiter_name = 'Jupiter'\n",
    " jupiter_moons = 79\n",
    "\n",
    "# Creacion un diccionario \n",
    "Python usa llaves ({ }) y dos puntos (:) para indicar un diccionario. Puedes crear un diccionario vacío y agregar valores más adelante, o bien\n",
    "rellenarlo en el momento de la creación\n",
    "\n",
    "planet = {\n",
    "    'name': 'Earth',\n",
    "    'moons': 1\n",
    "}\n",
    "Tiene dos claves, 'name' y 'moons'. Cada una se comporta igual que una variable: tienen un nombre único y almacenan un valor. Pero se incluyen\n",
    "dentro de una única variable más grande, denominada planet\n",
    "\n",
    "# lectura \n",
    "Podemos leer valores dentro de un diccionario. Los objetos de diccionario tienen un método llamado get que puedes usar para acceder a un valor\n",
    "mediante su clave. Si queremos imprimir name\n",
    "\n",
    "print(planet.get('name'))\n",
    "* planet['name'] es idéntico a usar planet.get('name')\n",
    "print(planet['name'])\n",
    "\n",
    "# Modificacion de valores\n",
    "También puedes modificar valores dentro de un objeto de diccionario, con el método update. Este método acepta un diccionario como parámetro\n",
    "(sí, parámetro por que un diccionario es un rango de valores) y actualiza los valores existentes con los nuevos que proporciones.\n",
    "Si quieres cambiar name para el diccionario planet\n",
    "* ejemplo \n",
    "planet.update({'name': 'Makemake'})\n",
    "\n",
    "En el ejemplo siguiente se hacen las mismas modificaciones en la variable planet y se actualizan el nombre y las lunas.\n",
    "Ten en cuenta que al usar update realizas una sola llamada a la función, mientras que el uso de corchetes implica dos llamadas.\n",
    "\n",
    "planet.update({\n",
    "    'name': 'Jupiter',\n",
    "    'moons': 79\n",
    "})\n",
    "\n",
    "# Usando corchetes\n",
    "planet['name'] = 'Jupiter'\n",
    "planet['moons'] = 79\n",
    "\n",
    "# Ejercicios \n",
    "* ejercicio 1\n"
   ]
  },
  {
   "cell_type": "code",
   "execution_count": 1,
   "metadata": {},
   "outputs": [
    {
     "name": "stdout",
     "output_type": "stream",
     "text": [
      "Mars has2 moons\n",
      "Mars has a polar circumference of 6752\n"
     ]
    }
   ],
   "source": [
    "# ejercicio - creacion de diccionario \n",
    "planet_moons = {\n",
    "    'mercury': 0,\n",
    "    'venus': 0,\n",
    "    'earth': 1,\n",
    "    'mars': 2,\n",
    "    'jupiter': 79,\n",
    "    'saturn': 82,\n",
    "    'uranus': 27,\n",
    "    'neptune': 14,\n",
    "    'pluto': 5,\n",
    "    'haumea': 2,\n",
    "    'makemake': 1,\n",
    "    'eris': 1\n",
    "}\n",
    "\n",
    "planet={\n",
    "    'name':'Mars',\n",
    "    'moons':2\n",
    "}\n",
    "\n",
    "print(f'{planet[\"name\"]} has{planet[\"moons\"]} moons')\n",
    "\n",
    "planet['circumference (km)']={\n",
    "    'polar': 6752,\n",
    "    'equatorial': 6792\n",
    "}\n",
    "\n",
    "print(f'{planet[\"name\"]} has a polar circumference of {planet[\"circumference (km)\"][\"polar\"]}')"
   ]
  },
  {
   "cell_type": "markdown",
   "metadata": {},
   "source": [
    "* ejercicio 2"
   ]
  },
  {
   "cell_type": "code",
   "execution_count": 2,
   "metadata": {},
   "outputs": [
    {
     "ename": "NameError",
     "evalue": "name 'average' is not defined",
     "output_type": "error",
     "traceback": [
      "\u001b[1;31m---------------------------------------------------------------------------\u001b[0m",
      "\u001b[1;31mNameError\u001b[0m                                 Traceback (most recent call last)",
      "\u001b[1;32mc:\\Users\\gama-\\Desktop\\LauchX\\Modulo 8 - Administrar datos con diccionarios.ipynb Cell 4'\u001b[0m in \u001b[0;36m<module>\u001b[1;34m\u001b[0m\n\u001b[0;32m     <a href='vscode-notebook-cell:/c%3A/Users/gama-/Desktop/LauchX/Modulo%208%20-%20Administrar%20datos%20con%20diccionarios.ipynb#ch0000003?line=22'>23</a>\u001b[0m     total_moons\u001b[39m=\u001b[39mtotal_moons\u001b[39m+\u001b[39mmoon\n\u001b[0;32m     <a href='vscode-notebook-cell:/c%3A/Users/gama-/Desktop/LauchX/Modulo%208%20-%20Administrar%20datos%20con%20diccionarios.ipynb#ch0000003?line=24'>25</a>\u001b[0m avarage\u001b[39m=\u001b[39mtotal_moons\u001b[39m/\u001b[39mplanets\n\u001b[1;32m---> <a href='vscode-notebook-cell:/c%3A/Users/gama-/Desktop/LauchX/Modulo%208%20-%20Administrar%20datos%20con%20diccionarios.ipynb#ch0000003?line=26'>27</a>\u001b[0m \u001b[39mprint\u001b[39m(average)\n",
      "\u001b[1;31mNameError\u001b[0m: name 'average' is not defined"
     ]
    }
   ],
   "source": [
    "# ejercicio 2 - determianacion de numero \n",
    "\n",
    "planet_moons = {\n",
    "    'mercury': 0,\n",
    "    'venus': 0,\n",
    "    'earth': 1,\n",
    "    'mars': 2,\n",
    "    'jupiter': 79,\n",
    "    'saturn': 82,\n",
    "    'uranus': 27,\n",
    "    'neptune': 14,\n",
    "    'pluto': 5,\n",
    "    'haumea': 2,\n",
    "    'makemake': 1,\n",
    "    'eris': 1\n",
    "}\n",
    "\n",
    "moons=planet_moons.values()\n",
    "planets=len(planet_moons.keys())\n",
    "\n",
    "total_moons=0\n",
    "for moon in moons:\n",
    "    total_moons=total_moons+moon\n",
    "\n",
    "avarage=total_moons/planets\n",
    "\n",
    "print(average)"
   ]
  }
 ],
 "metadata": {
  "interpreter": {
   "hash": "d29c00a9fd76f0f4613d5e5d4233c49dbbed91e626bdc814f7ec78f97e5063b0"
  },
  "kernelspec": {
   "display_name": "Python 3.10.2 64-bit",
   "language": "python",
   "name": "python3"
  },
  "language_info": {
   "codemirror_mode": {
    "name": "ipython",
    "version": 3
   },
   "file_extension": ".py",
   "mimetype": "text/x-python",
   "name": "python",
   "nbconvert_exporter": "python",
   "pygments_lexer": "ipython3",
   "version": "3.10.2"
  },
  "orig_nbformat": 4
 },
 "nbformat": 4,
 "nbformat_minor": 2
}
