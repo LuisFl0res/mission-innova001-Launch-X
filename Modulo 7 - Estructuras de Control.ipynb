{
 "cells": [
  {
   "cell_type": "code",
   "execution_count": null,
   "metadata": {},
   "outputs": [],
   "source": [
    "# Modulo 7 -  Estructuras de Control \n",
    "Los programas informáticos son excelentes para trabajar con tareas repetitivas. Como desarrollador, a menudo tendrás que recorrer en ciclo secuencias de valores,\n",
    "como cadenas, números y objetos.\n",
    "* while\n",
    "* for \n",
    "\n",
    "# Objetivos \n",
    "* Identificar cuándo se deben usar los ciclos while y for.\n",
    "* Ejecutar una tarea varias veces mediante ciclos while.\n",
    "* Recorrer en ciclo los datos de la lista mediante ciclos for.\n",
    "\n",
    "# while \n",
    "Al escribir código, un desafío común es que realices una tarea un número desconocido de veces\n",
    "Para admitir una entrada de usuario o ejecutar una tarea, un número desconocido de veces, puedes usar un ciclo while.\n",
    "Un ciclo while tiene tres partes importantes:\n",
    "\n",
    "* La palabra while, seguida de un espacio.\n",
    "* La condición que se va a probar. Si la condición es True, se ejecutará el código dentro del ciclo while.\n",
    "* El código que quiere ejecutar para cada elemento del objeto iterable, seguido de espacios en blanco anidados.\n",
    "\n",
    "* ejemplo\n",
    "while condition:\n",
    "\n",
    "# Creamos la variable que almacena el texto\n",
    "user_input = ''\n",
    "# Creamos la lista que almacena cada uno de los textos que el usuario ingresa\n",
    "inputs = []\n",
    "\n",
    "# Ciclo while\n",
    "while user_input.lower() != 'done':\n",
    "    * Verificamos si hay un valor en user_input\n",
    "    if user_input:\n",
    "        * Almacenamos ese valor en la lista\n",
    "        inputs.append(user_input)\n",
    "    * Capturamos un nuevo valor\n",
    "    user_input = input('Enter a new value, or done when done')\n",
    "\n",
    "# Uso de for \n",
    "Las listas de Python son iterables y se pueden usar con un ciclo for. Se usa un ciclo for con objetos \n",
    "iterables que va a recorrer en ciclo un número conocido de veces\n",
    "* ejemplo\n",
    "countdown = [4, 3, 2, 1, 0]\n",
    "for number in countdown:\n",
    "    print(number)\n",
    "print(\"Blast off!! 🚀\")\n",
    "\n",
    "El ciclo for es una instrucción con cinco partes importantes:\n",
    "\n",
    "La palabra for, seguida de un espacio.\n",
    "El nombre de la variable que quieres crear para cada valor de la secuencia (number).\n",
    "La palabra in, entre espacios.\n",
    "El nombre de la lista (countdown, en el ejemplo anterior) u objeto iterable que quieres recorrer en ciclo, seguido de dos puntos (:).\n",
    "El código que quieres ejecutar para cada elemento del objeto iterable, separado por espacios en blanco anidados.\n",
    "\n",
    "# Ejercicios\n",
    "* ejercicio 1\n"
   ]
  },
  {
   "cell_type": "code",
   "execution_count": 1,
   "metadata": {},
   "outputs": [
    {
     "ename": "KeyboardInterrupt",
     "evalue": "",
     "output_type": "error",
     "traceback": [
      "\u001b[1;31m---------------------------------------------------------------------------\u001b[0m",
      "\u001b[1;31mKeyboardInterrupt\u001b[0m                         Traceback (most recent call last)",
      "\u001b[1;32mc:\\Users\\gama-\\Desktop\\LauchX\\Modulo 7 - Estructuras de Control.ipynb Cell 2'\u001b[0m in \u001b[0;36m<module>\u001b[1;34m\u001b[0m\n\u001b[0;32m      <a href='vscode-notebook-cell:/c%3A/Users/gama-/Desktop/LauchX/Modulo%207%20-%20Estructuras%20de%20Control.ipynb#ch0000001?line=2'>3</a>\u001b[0m plants\u001b[39m=\u001b[39m[]\n\u001b[0;32m      <a href='vscode-notebook-cell:/c%3A/Users/gama-/Desktop/LauchX/Modulo%207%20-%20Estructuras%20de%20Control.ipynb#ch0000001?line=3'>4</a>\u001b[0m \u001b[39mwhile\u001b[39;00m new_planet\u001b[39m.\u001b[39mlower() \u001b[39m!=\u001b[39m\u001b[39m'\u001b[39m\u001b[39mdone\u001b[39m\u001b[39m'\u001b[39m:\n\u001b[1;32m----> <a href='vscode-notebook-cell:/c%3A/Users/gama-/Desktop/LauchX/Modulo%207%20-%20Estructuras%20de%20Control.ipynb#ch0000001?line=4'>5</a>\u001b[0m     \u001b[39mif\u001b[39;00m new_planet:\n\u001b[0;32m      <a href='vscode-notebook-cell:/c%3A/Users/gama-/Desktop/LauchX/Modulo%207%20-%20Estructuras%20de%20Control.ipynb#ch0000001?line=5'>6</a>\u001b[0m         planets\u001b[39m.\u001b[39mappend(new_planet)\n\u001b[0;32m      <a href='vscode-notebook-cell:/c%3A/Users/gama-/Desktop/LauchX/Modulo%207%20-%20Estructuras%20de%20Control.ipynb#ch0000001?line=6'>7</a>\u001b[0m         new_planet\u001b[39m=\u001b[39m\u001b[39minput\u001b[39m(\u001b[39m'\u001b[39m\u001b[39mEnter a new planet\u001b[39m\u001b[39m'\u001b[39m)\n",
      "\u001b[1;31mKeyboardInterrupt\u001b[0m: "
     ]
    }
   ],
   "source": [
    "# Creacion de un ciclo while\n",
    "new_planet=''\n",
    "plants=[]\n",
    "while new_planet.lower() !='done':\n",
    "    if new_planet:\n",
    "        planets.append(new_planet)\n",
    "        new_planet=input('Enter a new planet')"
   ]
  },
  {
   "cell_type": "markdown",
   "metadata": {},
   "source": [
    "* Ejercicio 2"
   ]
  },
  {
   "cell_type": "code",
   "execution_count": null,
   "metadata": {},
   "outputs": [],
   "source": [
    "# creacion de un ciclo for\n",
    "planet = \"\"\n",
    "planet[]\n",
    "for planet in planet:\n",
    "    print(planet)"
   ]
  }
 ],
 "metadata": {
  "interpreter": {
   "hash": "d29c00a9fd76f0f4613d5e5d4233c49dbbed91e626bdc814f7ec78f97e5063b0"
  },
  "kernelspec": {
   "display_name": "Python 3.10.2 64-bit",
   "language": "python",
   "name": "python3"
  },
  "language_info": {
   "codemirror_mode": {
    "name": "ipython",
    "version": 3
   },
   "file_extension": ".py",
   "mimetype": "text/x-python",
   "name": "python",
   "nbconvert_exporter": "python",
   "pygments_lexer": "ipython3",
   "version": "3.10.2"
  },
  "orig_nbformat": 4
 },
 "nbformat": 4,
 "nbformat_minor": 2
}
