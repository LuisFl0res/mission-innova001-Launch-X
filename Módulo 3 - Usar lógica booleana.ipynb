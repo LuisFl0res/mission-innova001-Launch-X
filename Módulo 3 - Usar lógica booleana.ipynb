{
 "cells": [
  {
   "cell_type": "markdown",
   "metadata": {},
   "source": [
    "# Usar Logica boleana - Notas \n",
    "Los booleanos son un tipo común en Python. Su valor solo puede ser una de dos cosas: verdadero o falso.\n",
    "\n",
    "# Aprendizaje \n",
    "Comparaciones \n",
    "* if \n",
    "* else\n",
    "* elif\n",
    "logica condicional \n",
    "* and\n",
    "* or\n",
    "\n",
    "# Logica boleana \n",
    "Declaraciones if, son comparaciones que al cumplir se se ejecutan fragmentos de codigo \n",
    "* Iguales: a == b\n",
    "* No es igual: a != b\n",
    "* Menos que: a < b\n",
    "* Menor o igual que: a <= b\n",
    "* Mayor que: a > b\n",
    "* Mayor o igual que: a >= b"
   ]
  },
  {
   "cell_type": "code",
   "execution_count": 3,
   "metadata": {},
   "outputs": [
    {
     "name": "stdout",
     "output_type": "stream",
     "text": [
      "60\n"
     ]
    }
   ],
   "source": [
    "# práctica 1\n",
    "a = 55\n",
    "b = 60\n",
    "if a < b:\n",
    "    # codigo que se ejecuta al cumplir se la condicion \n",
    "    print(b)"
   ]
  },
  {
   "cell_type": "code",
   "execution_count": 4,
   "metadata": {},
   "outputs": [
    {
     "name": "stdout",
     "output_type": "stream",
     "text": [
      "93\n"
     ]
    }
   ],
   "source": [
    "# practica 2\n",
    "a = 93\n",
    "b = 27\n",
    "if a >= b:\n",
    "    print(a)"
   ]
  },
  {
   "cell_type": "markdown",
   "metadata": {},
   "source": [
    "En Python, el cuerpo de una instrucción if debe tener sangría . Siempre se ejecutará cualquier código que siga a una expresión de prueba que no tenga sangría:\n",
    "\n",
    "En el siguiente caso la intruccion solo se cumpla en la variable a y se continua con la linea de codigo que no esta al nivel del if "
   ]
  },
  {
   "cell_type": "code",
   "execution_count": 19,
   "metadata": {},
   "outputs": [
    {
     "name": "stdout",
     "output_type": "stream",
     "text": [
      "apartir de aqui se continua ejecutando el codigo al no cumoplir se la condicion a<=0:\n"
     ]
    }
   ],
   "source": [
    "# ejemplo if\n",
    "a = 24\n",
    "b = 44\n",
    "if a <= 10:\n",
    "    print(a)\n",
    "    print(b)\n",
    "print(\"a partir de aqui se continua ejecutando el codigo al no cumoplir se la condicion a<=0:\")"
   ]
  },
  {
   "cell_type": "markdown",
   "metadata": {},
   "source": [
    "# Declaraciones else y elif - (si no / si no, entonces )\n",
    "Son expresiones mas complejas utilizadas con varias expresiones de prueba y sentencias para ejecutar, combinaciones de else y if \n",
    "\n",
    "# sentencia else \n",
    "Cuando utilizas una instrucción, el cuerpo del programa sólo se ejecutará si la expresión de prueba es True. Para agregar más código que se ejecutará cuando la expresión de prueba sea False, debes agregar una instrucción else.\n",
    "\n"
   ]
  },
  {
   "cell_type": "code",
   "execution_count": 25,
   "metadata": {},
   "outputs": [
    {
     "name": "stdout",
     "output_type": "stream",
     "text": [
      "\n"
     ]
    }
   ],
   "source": [
    "# ejemplo else \n",
    "a = 13\n",
    "b = 27\n",
    "if a >= b: # como no se cumpla agregamos una comparasion else \n",
    "    print(a)\n"
   ]
  },
  {
   "cell_type": "markdown",
   "metadata": {},
   "source": [
    "# estructura del programa \n",
    "if expresion_prueba:\n",
    "    # instrucción(es) a ejecutar\n",
    "else:\n",
    "    # instrucción(es) a ejecutar"
   ]
  },
  {
   "cell_type": "code",
   "execution_count": 26,
   "metadata": {},
   "outputs": [
    {
     "name": "stdout",
     "output_type": "stream",
     "text": [
      "93\n"
     ]
    }
   ],
   "source": [
    "a = 93\n",
    "b = 27\n",
    "if a >= b:\n",
    "    print(a)\n",
    "else:\n",
    "    print(b)"
   ]
  },
  {
   "cell_type": "markdown",
   "metadata": {},
   "source": [
    "# sentencia elif\n",
    "la palabra clave elif es la abreviatura de else if. El uso de instrucciones elif te permite agregar varias expresiones de prueba al programa. Estas instrucciones se ejecutan en el orden en que están escritas\n",
    "* por lo que el programa ingresará una instrucción elif solo si la primera instrucción if es False\n",
    "\n",
    "* estructura \n",
    "if expresion_prueba:\n",
    "    # instrucción(es) a ejecutar\n",
    "elif expresion_prueba:\n",
    "    # instrucción(es) a ejecutar\n",
    "\n",
    "# Combinaciones en declaraciones if, elif y else\n",
    "Puedes combinar sentencias if , elif, y else para crear programas con lógica condicional compleja\n",
    "* estruictura de ejemplo \n",
    "if expresion_prueba:\n",
    "    # instrucción(es) a ejecutar\n",
    "elif expresion_prueba:\n",
    "    # instrucción(es) a ejecutar\n",
    "elif expresion_prueba:\n",
    "    # instrucción(es) a ejecutar\n",
    "else:\n",
    "    # instrucción(es) a ejecutar"
   ]
  },
  {
   "cell_type": "code",
   "execution_count": 27,
   "metadata": {},
   "outputs": [
    {
     "name": "stdout",
     "output_type": "stream",
     "text": [
      "a es mayor que b\n"
     ]
    }
   ],
   "source": [
    "a = 93\n",
    "b = 27\n",
    "if a > b:\n",
    "    print(\"a es mayor que b\")\n",
    "elif a < b:\n",
    "    print(\"a es menor que b\")\n",
    "else: \n",
    "    print (\"a es igual que b\")"
   ]
  },
  {
   "cell_type": "markdown",
   "metadata": {},
   "source": [
    "# Logica condicional anidada\n",
    "Python también admite lógica condicional anidada, lo que significa que puedes anidar sentencias if , elif, y else, para crear programas aún más complejos.\n",
    "* Estructura de ejemplo\n",
    "if expresion_prueba:\n",
    "    # instrucción(es) a ejecutar\n",
    "    if expresion_prueba:\n",
    "        # instrucción(es) a ejecutar\n",
    "    else: \n",
    "        # instrucción(es) a ejecutar\n",
    "elif expresion_prueba:\n",
    "    # instrucción(es) a ejecutar\n",
    "    if expresion_prueba:\n",
    "        # instrucción(es) a ejecutar\n",
    "    else: \n",
    "        # instrucción(es) a ejecutar\n",
    "else:\n",
    "    # instrucción(es) a ejecutar"
   ]
  },
  {
   "cell_type": "code",
   "execution_count": 28,
   "metadata": {},
   "outputs": [
    {
     "name": "stdout",
     "output_type": "stream",
     "text": [
      "a es menor que b\n"
     ]
    }
   ],
   "source": [
    "a = 16\n",
    "b = 25\n",
    "c = 27\n",
    "if a > b:\n",
    "    if b > c:\n",
    "        print (\"a es mayor que b y b es mayor que c\")\n",
    "    else: \n",
    "        print (\"a es mayor que b y menor que c\")\n",
    "elif a == b:\n",
    "    print (\"a es igual que b\")\n",
    "else:\n",
    "    print (\"a es menor que b\")"
   ]
  },
  {
   "cell_type": "markdown",
   "metadata": {},
   "source": [
    "# Operadores AND y OR   \n",
    "* El operador OR\n",
    "\n",
    "Puede conectar dos expresiones booleanas o de prueba mediante el operador booleano or. Para que toda la expresión se evalúe en True, al menos una de las subexpresiones debe ser verdadera. Si ninguna de las subexpresiones es verdadera, toda la expresión se evalúa en False\n",
    "\n",
    "Si ambas subexpresiones son verdaderas, toda la expresión de prueba también evalúa a True.\n",
    "\n",
    "                     subexpresión1 or subexpresión2"
   ]
  },
  {
   "cell_type": "code",
   "execution_count": 29,
   "metadata": {},
   "outputs": [
    {
     "name": "stdout",
     "output_type": "stream",
     "text": [
      "57\n"
     ]
    }
   ],
   "source": [
    "a = 23\n",
    "b = 34\n",
    "if a == 34 or b == 34:\n",
    "    print(a + b)"
   ]
  },
  {
   "cell_type": "markdown",
   "metadata": {},
   "source": [
    "* Operador AND\n",
    "\n",
    "Ambas condiciones de la expresión de prueba deben ser verdaderas para que toda la expresión de prueba se evalúe en True. En cualquier otro caso, la expresión de prueba es False\n",
    "Una expresión booleana que utiliza and tiene la sintaxis siguiente:\n",
    "\n",
    "                subexpresión1 and subexpresión2"
   ]
  },
  {
   "cell_type": "code",
   "execution_count": 30,
   "metadata": {},
   "outputs": [],
   "source": [
    "a = 23\n",
    "b = 34\n",
    "if a == 34 and b == 34:\n",
    "    print (a + b)"
   ]
  },
  {
   "cell_type": "markdown",
   "metadata": {},
   "source": [
    "# Ejercicios "
   ]
  },
  {
   "cell_type": "code",
   "execution_count": 54,
   "metadata": {},
   "outputs": [
    {
     "name": "stdout",
     "output_type": "stream",
     "text": [
      "ingrese la velocidad a la que ingresa el asteroide\n",
      "un asteroide se encuentra en la atmosfera!!!\n",
      "¡Alerta!, ¡Un asteroide a alta velocidad! a 32KM/S\n"
     ]
    }
   ],
   "source": [
    "# Ejercicio 1 - Asteroide en la admosfera \n",
    "print(\"ingrese la velocidad a la que ingresa el asteroide\")#velocidad detectada por los sensores \n",
    "Asteroide = int(input())\n",
    "print(\"un asteroide se encuentra en la atmosfera!!!\")\n",
    "if Asteroide > 25: # velocidad de advertensia en la atmosfera\n",
    "    print(\"¡Alerta!, ¡Un asteroide a alta velocidad! a \" + str(Asteroide)+\"KM/S\")\n",
    "else:\n",
    "    print(\"Asteroide a velocidad inferior de la peligrosa\")"
   ]
  },
  {
   "cell_type": "code",
   "execution_count": 57,
   "metadata": {},
   "outputs": [
    {
     "name": "stdout",
     "output_type": "stream",
     "text": [
      "un asteroide se encuentra en la atmosfera!!!\n",
      "Ingrese las caracteristicas calculadas del asteroide\n",
      "velocidad a la que ingresa el asteroide\n",
      "Look up! ¡Hay una luz en el cielo!\n"
     ]
    }
   ],
   "source": [
    "# Ejercicio 2 - Efecto produccido por objeto a asta velocidad en la admosfera \n",
    "print(\"un asteroide se encuentra en la atmosfera!!!\")\n",
    "print(\"Ingrese las caracteristicas calculadas del asteroide\")\n",
    "print(\"velocidad a la que ingresa el asteroide\")#velocidad detectada por los sensores \n",
    "Asteroide = int(input())\n",
    "if Asteroide == 20:\n",
    "    print('Look up! ¡Hay una luz en el cielo!')\n",
    "elif Asteroide > 20:\n",
    "    print('Look up! ¡Hay una luz en el cielo!')\n",
    "else:\n",
    "    print(\"¡No se genera ningun efecto producido por el objeto!\")"
   ]
  },
  {
   "cell_type": "code",
   "execution_count": 56,
   "metadata": {},
   "outputs": [
    {
     "name": "stdout",
     "output_type": "stream",
     "text": [
      "un asteroide se encuentra en la atmosfera!!!\n",
      "Ingrese las caracteristicas calculadas del asteroide\n",
      "velocidad a la que ingresa el asteroide\n",
      "tamaño a la que ingresa el asteroide\n",
      "Look up! ¡Hay una luz  en el cielo!\n"
     ]
    }
   ],
   "source": [
    "# Ejercicio 3 - Caracteristicas del Asteroide\n",
    "print(\"un asteroide se encuentra en la atmosfera!!!\")\n",
    "print(\"Ingrese las caracteristicas calculadas del asteroide\")\n",
    "print(\"velocidad a la que ingresa el asteroide\")#velocidad detectada por los sensores \n",
    "velocidad_asteroide = int(input())\n",
    "print(\"tamaño a la que ingresa el asteroide\")#tamaño detectada por los sensores \n",
    "tamano_asteroide = int(input())\n",
    "# Logica boleana AND, OR\n",
    "if velocidad_asteroide > 25 and tamano_asteroide > 25:\n",
    "    print(\"¡Alerta!, ¡Un asteroide a alta velocidad! a \" + str(Asteroide)+\"KM/S\")\n",
    "elif velocidad_asteroide >= 20:\n",
    "    print('Look up! ¡Hay una luz en el cielo!')\n",
    "elif tamano_asteroide < 25:\n",
    "    print(\"¡No se genera ningun efecto producido por el objeto!, demasiado pequeño tan solo \"+ str(tamano_asteroide)+ \"metros\")\n",
    "else:\n",
    "    print(\"Asteroide a velocidad inferior de la peligrosa\")"
   ]
  }
 ],
 "metadata": {
  "interpreter": {
   "hash": "d29c00a9fd76f0f4613d5e5d4233c49dbbed91e626bdc814f7ec78f97e5063b0"
  },
  "kernelspec": {
   "display_name": "Python 3.10.2 64-bit",
   "language": "python",
   "name": "python3"
  },
  "language_info": {
   "codemirror_mode": {
    "name": "ipython",
    "version": 3
   },
   "file_extension": ".py",
   "mimetype": "text/x-python",
   "name": "python",
   "nbconvert_exporter": "python",
   "pygments_lexer": "ipython3",
   "version": "3.10.2"
  },
  "orig_nbformat": 4
 },
 "nbformat": 4,
 "nbformat_minor": 2
}
