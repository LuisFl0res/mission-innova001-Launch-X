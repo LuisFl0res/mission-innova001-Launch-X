{
 "cells": [
  {
   "cell_type": "markdown",
   "metadata": {},
   "source": [
    "# Modulo 6 - Introduccion a listas \n",
    "frecuencia trabajarás con conjuntos de datos. Es posible que debas administrar varios nombres, edades o direcciones.\n",
    "Almacenar cada valor en una variable individual hace que el código sea más difícil de leer y escribir.\n",
    "\n",
    "# objetivos \n",
    "* Identificar cuando usar un modulo\n",
    "* Crear una lista\n",
    "* Obtener acceso a un elemento determinado de una lista\n",
    "* Insertar elementos al final de una lista, ordenar y divir \n",
    "\n",
    "comprender cuándo usar una estructura de lista y cómo puede ayudar a organizar tus datos.\n",
    "\n",
    "* ejemplo\n",
    "planets = ['Mercury', 'Venus', 'Earth', 'Mars', 'Jupiter', 'Saturn', 'Uranus', 'Neptune']\n",
    "\n",
    "# acceder a elementos de lista por indice\n",
    "Puedes acceder a cualquier elemento de una lista poniendo el index/índice entre [] después del nombre de la variable de lista. Los índices comienzan desde 0, por lo que en el siguiente código planets[0], es el primer elemento de la lista planets:\n",
    "* ejemplo\n",
    "print('The first planet is', planets[0])\n",
    "print('The second planet is', planets[1])\n",
    "print('The third planet is', planets[2])\n",
    "\n",
    "# Determinar la longitud de una lista \n",
    "Para obtener la longitud de una lista, utilice la función integrada len\n",
    "\n",
    "number_of_planets = len(planets)\n",
    "print('There are', number_of_planets, 'planets in the solar system.')\n",
    "\n",
    "# Agregar valores a la lista \n",
    "Para agregar un elemento a una lista, utilice el método .append(value)\n",
    "\n",
    "planets.append('Pluto')\n",
    "number_of_planets = len(planets)\n",
    "print('There are actually', number_of_planets, 'planets in the solar system.')\n",
    "\n",
    "# Eliminar valores a la lista \n",
    "Puedes eliminar el último elemento de una lista llamando al método .pop().\n",
    "\n",
    "planets.pop()  # Goodbye, Pluto\n",
    "number_of_planets = len(planets)\n",
    "print('No, there are definitely', number_of_planets, 'planets in the solar system.')\n",
    "\n",
    "# Indices negativos \n",
    "En el ejemplo siguiente, un índice de -1 devuelve el último elemento de una lista. Un índice de -2 retorna del penúltimo al último.\n",
    "\n",
    "print('The last planet is', planets[-1])\n",
    "print('The penultimate planet is', planets[-2])\n",
    "\n",
    "# Buscar un valor en una lista\n",
    "Para determinar en qué parte de una lista se almacena un valor, utilizamos el método index() de la lista. Este método busca el valor y devuelve el índice de ese elemento en la lista. Si no encuentra una coincidencia, devuelve -1.\n",
    "\n",
    "jupiter_index = planets.index('Jupiter')\n",
    "print('Jupiter is the', jupiter_index + 1, 'planet from the sun')\n",
    "\n",
    "# Almacenar números en listas\n",
    "Para almacenar números con decimales en Python, utilizamos el tipo float. Para crear un float, introduzca el número con el decimal y asígnelo a una variable\n",
    "\n",
    "gravity_on_earth = 1.0\n",
    "gravity_on_the_moon = 0.166\n",
    "\n",
    "# min() y max() con listas \n",
    "La función max() devuelve el número más grande y la función min() devuelve el más pequeño. Así que min(gravity_on_planets)devuelve el número más pequeño de la lista\n",
    "\n",
    "bus_weight = 12650 # in kilograms, on Earth\n",
    "\n",
    "print('On Earth, a double-decker bus weighs', bus_weight, 'kg')\n",
    "print('The lightest a bus would be in the solar system is', bus_weight * min(gravity_on_planets), 'kg')\n",
    "print('The heaviest a bus would be in the solar system is', bus_weight * max(gravity_on_planets), 'kg')\n",
    "\n",
    "# manipulador de listas\n",
    "proporciona un soporte sólido para trabajar con los datos en las listas. Este soporte incluye el slicing (examinando solo una parte) y el sorting.\n",
    "\n",
    "# Slice list\n",
    "Puedes recuperar una parte de una lista mediante un slice (Entendamos slice como una porción, un pedacito, un fragmento, segmento.). Slice utiliza corchetes, pero en lugar de un solo elemento, tiene los índices inicial y final de los elementos que queremos recuperar.\n",
    "\n",
    "La Tierra es la tercera en la lista. Para obtener los planetas antes que la Tierra, use un slice para obtener elementos que comienzan en 0 y terminan en 2:\n",
    "\n",
    "* ejemplo \n",
    "planets = ['Mercury', 'Venus', 'Earth', 'Mars', 'Jupiter', 'Saturn', 'Uranus', 'Neptune']\n",
    "planets_before_earth = planets[0:2]\n",
    "print(planets_before_earth)\n",
    "\n",
    "# uniendo listas\n",
    "Para unir dos listas, utilice el operador (+) con dos listas para devolver una nueva lista.\n",
    "* ejemplo \n",
    "amalthea_group = ['Metis', 'Adrastea', 'Amalthea', 'Thebe']\n",
    "galilean_moons = ['Io', 'Europa', 'Ganymede', 'Callisto']\n",
    "\n",
    "regular_satellite_moons = amalthea_group + galilean_moons\n",
    "print('The regular satellite moons of Jupiter are', regular_satellite_moons)\n",
    "\n",
    "# Ordenar lista\n",
    "Para ordenar una lista, utilizamos el método sort() de la lista. Python ordenará una lista de cadenas en orden alfabético y una lista de números en orden numérico\n",
    "* ejemplo \n",
    "regular_satellite_moons.sort()\n",
    "print(\"The regular satellite moons of Jupiter are\", regular_satellite_moons)\n",
    "\n",
    "Para ordenar una lista en forma inversa, llamamos al método .sort(reverse=True)\n",
    "\n",
    "# Ejercicios \n",
    "* ejercicio 1\n"
   ]
  },
  {
   "cell_type": "code",
   "execution_count": null,
   "metadata": {},
   "outputs": [],
   "source": [
    "# Listas \n",
    "planetas=['Mercurio', 'Venus', 'Tierra', 'Marte', 'Júpiter', 'Saturno', 'Urano', 'Neptuno']\n",
    "print('There are', len(planetas), 'planetas')\n",
    "# agregamos un planeta \n",
    "planetas.append('Pluto')\n",
    "print(planetas[-1], 'is the last planet')"
   ]
  },
  {
   "cell_type": "markdown",
   "metadata": {},
   "source": [
    "* ejercicio 2"
   ]
  },
  {
   "cell_type": "code",
   "execution_count": 4,
   "metadata": {},
   "outputs": [
    {
     "name": "stdout",
     "output_type": "stream",
     "text": [
      "Here are the planets closer thanVenus\n",
      "['Mercurio']\n",
      "Here are the Planets further thanVenus\n",
      "['Tierra', 'Marte', 'Júpiter', 'Saturno', 'Urano', 'Neptuno']\n"
     ]
    }
   ],
   "source": [
    "# Lista de planetas \n",
    "Planetas=['Mercurio', 'Venus', 'Tierra', 'Marte', 'Júpiter', 'Saturno', 'Urano', 'Neptuno']\n",
    "# pedimos un planeta\n",
    "user_Planet=input('Por favor introduce el nombre del planeta')\n",
    "# busca el planeta\n",
    "Planet_index=Planetas.index(user_Planet)\n",
    "\n",
    "print('Here are the planets closer than' + user_Planet)\n",
    "print(Planetas[0:Planet_index])\n",
    "\n",
    "print('Here are the Planets further than' + user_Planet)\n",
    "print(Planetas[Planet_index + 1:])"
   ]
  }
 ],
 "metadata": {
  "interpreter": {
   "hash": "d29c00a9fd76f0f4613d5e5d4233c49dbbed91e626bdc814f7ec78f97e5063b0"
  },
  "kernelspec": {
   "display_name": "Python 3.10.2 64-bit",
   "language": "python",
   "name": "python3"
  },
  "language_info": {
   "codemirror_mode": {
    "name": "ipython",
    "version": 3
   },
   "file_extension": ".py",
   "mimetype": "text/x-python",
   "name": "python",
   "nbconvert_exporter": "python",
   "pygments_lexer": "ipython3",
   "version": "3.10.2"
  },
  "orig_nbformat": 4
 },
 "nbformat": 4,
 "nbformat_minor": 2
}
