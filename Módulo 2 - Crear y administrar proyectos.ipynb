{
 "cells": [
  {
   "cell_type": "markdown",
   "metadata": {},
   "source": [
    "# intro - Notas\n",
    "existen pequeños programas que utilizan las bibliotecas que vienen con python, que vienen con las versiones de instalacion ejecutables en varias maquinas diferentes \n",
    "# Trabajar con paquetes \n",
    "Los programas se basan en codigo escrito por otros en forma de paquetes, que son modulos externos o bibliotecas, se debe considerar la version y tratar los programas como pryectos \n",
    "- en los entornos se pueden instalar las bibliotecas si que interfieran entre si \n",
    "# Que es un entorno virtual \n",
    "Un entorno virtual es una copia autónoma de todo lo necesario para ejecutar el programa, es una maquina computador donde se instala la version de python \n",
    "- Una cosa que no deseas hacer es asumir que tu programa funcionará\n",
    "El flujo de trabajo básico se ve así:\n",
    "* Crear un entorno virtual que no afecte al resto de la máquina.\n",
    "* Ingresar al entorno virtual, donde especifique la versión de Python y las bibliotecas que necesita.\n",
    "* Desarrolla tu programa\n",
    "\n",
    "# Creacion de un entorno virtual\n",
    "* cd documents/[folder de preferencia] - nos ubicamos en la direccion donde guardaremos el entorno \n",
    "* virtualeven - para crear el entrono en la direccion \n",
    "* .\\env\\Scripts\\activate - activamos el entorno \n",
    "* pip freeze - vemos las bibliotecas instaladas en el entorno\n",
    "* pip [] - para instalar las bibliotecas \n",
    "* pip freeze - para verificar la instalcion de la libreria en el entorno\n",
    "* deactivate - desactivacion del entorno virtual\n"
   ]
  }
 ],
 "metadata": {
  "language_info": {
   "name": "python"
  },
  "orig_nbformat": 4
 },
 "nbformat": 4,
 "nbformat_minor": 2
}
